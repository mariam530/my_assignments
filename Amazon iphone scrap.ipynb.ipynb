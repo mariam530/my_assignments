{
 "cells": [
  {
   "cell_type": "code",
   "execution_count": 1,
   "metadata": {},
   "outputs": [
    {
     "name": "stdout",
     "output_type": "stream",
     "text": [
      "Fetching page 1...\n",
      "Fetching page 2...\n",
      "Fetching page 3...\n",
      "Fetching page 4...\n",
      "Fetching page 5...\n",
      "Data saved to iphones.csv\n"
     ]
    }
   ],
   "source": [
    "import requests\n",
    "from bs4 import BeautifulSoup\n",
    "import csv\n",
    "import time\n",
    "\n",
    "# Base URL for Amazon search results\n",
    "BASE_URL = \"https://www.amazon.com/s\"\n",
    "\n",
    "# Headers to mimic a browser\n",
    "HEADERS = {\n",
    "    \"User-Agent\": \"Mozilla/5.0 (Windows NT 10.0; Win64; x64) AppleWebKit/537.36 (KHTML, like Gecko) Chrome/114.0.0.0 Safari/537.36\",\n",
    "    \"Accept-Language\": \"en-US,en;q=0.9\",\n",
    "}\n",
    "\n",
    "def fetch_page(url, params):\n",
    "    \"\"\"Fetch the page content.\"\"\"\n",
    "    response = requests.get(url, headers=HEADERS, params=params)\n",
    "    if response.status_code == 200:\n",
    "        return BeautifulSoup(response.content, \"html.parser\")\n",
    "    else:\n",
    "        print(f\"Failed to fetch page: {response.status_code}\")\n",
    "        return None\n",
    "\n",
    "def parse_products(soup):\n",
    "    \"\"\"Parse product data from a BeautifulSoup object.\"\"\"\n",
    "    products = soup.find_all(\"div\", {\"data-component-type\": \"s-search-result\"})\n",
    "    product_data = []\n",
    "\n",
    "    for product in products:\n",
    "        # Extract product title\n",
    "        title = product.h2.text.strip() if product.h2 else \"No title available\"\n",
    "\n",
    "        # Extract product price\n",
    "        price_whole = product.find(\"span\", class_=\"a-price-whole\")\n",
    "        price_fraction = product.find(\"span\", class_=\"a-price-fraction\")\n",
    "        price = f\"{price_whole.text}.{price_fraction.text}\" if price_whole and price_fraction else \"Price not listed\"\n",
    "\n",
    "        # Extract product rating\n",
    "        rating = product.find(\"span\", class_=\"a-icon-alt\")\n",
    "        rating = rating.text.strip() if rating else \"No rating\"\n",
    "\n",
    "        # Extract product link\n",
    "        link = product.h2.a[\"href\"] if product.h2 and product.h2.a else \"No link available\"\n",
    "        full_link = f\"https://www.amazon.com{link}\" if link != \"No link available\" else link\n",
    "\n",
    "        product_data.append([title, price, rating, full_link])\n",
    "\n",
    "    return product_data\n",
    "\n",
    "def scrape_amazon_iphones(output_file, max_pages=5):\n",
    "    \"\"\"Scrape Amazon iPhones and save the data to a CSV.\"\"\"\n",
    "    # Open CSV file\n",
    "    with open(output_file, \"w\", newline=\"\", encoding=\"utf-8\") as file:\n",
    "        writer = csv.writer(file)\n",
    "        # Write the header row\n",
    "        writer.writerow([\"Title\", \"Price\", \"Rating\", \"Link\"])\n",
    "\n",
    "        # Iterate through pages\n",
    "        for page in range(1, max_pages + 1):\n",
    "            print(f\"Fetching page {page}...\")\n",
    "            params = {\"k\": \"iphone\", \"page\": page}\n",
    "            soup = fetch_page(BASE_URL, params)\n",
    "\n",
    "            if soup:\n",
    "                products = parse_products(soup)\n",
    "                writer.writerows(products)\n",
    "            else:\n",
    "                print(f\"Stopping due to fetch error on page {page}.\")\n",
    "                break\n",
    "\n",
    "            # Delay between requests to avoid blocking\n",
    "            time.sleep(2)\n",
    "\n",
    "    print(f\"Data saved to {output_file}\")\n",
    "\n",
    "# Call the function to scrape and save data\n",
    "scrape_amazon_iphones(\"iphones.csv\", max_pages=5)\n"
   ]
  },
  {
   "cell_type": "code",
   "execution_count": null,
   "metadata": {},
   "outputs": [],
   "source": [
    "#https://github.com/mariam530/my_assignments"
   ]
  }
 ],
 "metadata": {
  "kernelspec": {
   "display_name": "base",
   "language": "python",
   "name": "python3"
  },
  "language_info": {
   "codemirror_mode": {
    "name": "ipython",
    "version": 3
   },
   "file_extension": ".py",
   "mimetype": "text/x-python",
   "name": "python",
   "nbconvert_exporter": "python",
   "pygments_lexer": "ipython3",
   "version": "3.12.4"
  }
 },
 "nbformat": 4,
 "nbformat_minor": 2
}
